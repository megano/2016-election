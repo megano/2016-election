{
 "cells": [
  {
   "cell_type": "code",
   "execution_count": 1,
   "metadata": {
    "collapsed": false,
    "scrolled": true
   },
   "outputs": [
    {
     "data": {
      "text/html": [
       "<div>\n",
       "<table border=\"1\" class=\"dataframe\">\n",
       "  <thead>\n",
       "    <tr style=\"text-align: right;\">\n",
       "      <th></th>\n",
       "      <th>personid</th>\n",
       "      <th>congressional_district</th>\n",
       "      <th>county_name</th>\n",
       "      <th>sex</th>\n",
       "      <th>source_party</th>\n",
       "      <th>combined_ethnicity_4way</th>\n",
       "      <th>age_range</th>\n",
       "      <th>ev_day_number</th>\n",
       "      <th>prefix</th>\n",
       "      <th>miles_to_ev_site</th>\n",
       "    </tr>\n",
       "  </thead>\n",
       "  <tbody>\n",
       "    <tr>\n",
       "      <th>0</th>\n",
       "      <td>353802804</td>\n",
       "      <td>3.0</td>\n",
       "      <td>Clark</td>\n",
       "      <td>M</td>\n",
       "      <td>Republican</td>\n",
       "      <td>W</td>\n",
       "      <td>45 - 54</td>\n",
       "      <td>3</td>\n",
       "      <td>DTSML</td>\n",
       "      <td>3.261233</td>\n",
       "    </tr>\n",
       "    <tr>\n",
       "      <th>1</th>\n",
       "      <td>353821325</td>\n",
       "      <td>3.0</td>\n",
       "      <td>Clark</td>\n",
       "      <td>M</td>\n",
       "      <td>Republican</td>\n",
       "      <td>W</td>\n",
       "      <td>35 - 44</td>\n",
       "      <td>1</td>\n",
       "      <td>DTSML</td>\n",
       "      <td>2.334355</td>\n",
       "    </tr>\n",
       "    <tr>\n",
       "      <th>2</th>\n",
       "      <td>322916642</td>\n",
       "      <td>1.0</td>\n",
       "      <td>Clark</td>\n",
       "      <td>M</td>\n",
       "      <td>Democrat</td>\n",
       "      <td>W</td>\n",
       "      <td>55 - 69</td>\n",
       "      <td>4</td>\n",
       "      <td>DTSML</td>\n",
       "      <td>4.764236</td>\n",
       "    </tr>\n",
       "    <tr>\n",
       "      <th>3</th>\n",
       "      <td>322916854</td>\n",
       "      <td>3.0</td>\n",
       "      <td>Clark</td>\n",
       "      <td>F</td>\n",
       "      <td>Republican</td>\n",
       "      <td>W</td>\n",
       "      <td>55 - 69</td>\n",
       "      <td>3</td>\n",
       "      <td>DTSML</td>\n",
       "      <td>22.849682</td>\n",
       "    </tr>\n",
       "    <tr>\n",
       "      <th>4</th>\n",
       "      <td>353828194</td>\n",
       "      <td>3.0</td>\n",
       "      <td>Clark</td>\n",
       "      <td>F</td>\n",
       "      <td>Non-Partisan</td>\n",
       "      <td>W</td>\n",
       "      <td>25 - 34</td>\n",
       "      <td>1</td>\n",
       "      <td>DTSML</td>\n",
       "      <td>2.569661</td>\n",
       "    </tr>\n",
       "  </tbody>\n",
       "</table>\n",
       "</div>"
      ],
      "text/plain": [
       "    personid  congressional_district county_name sex  source_party  \\\n",
       "0  353802804                     3.0       Clark   M    Republican   \n",
       "1  353821325                     3.0       Clark   M    Republican   \n",
       "2  322916642                     1.0       Clark   M      Democrat   \n",
       "3  322916854                     3.0       Clark   F    Republican   \n",
       "4  353828194                     3.0       Clark   F  Non-Partisan   \n",
       "\n",
       "  combined_ethnicity_4way age_range  ev_day_number prefix  miles_to_ev_site  \n",
       "0                       W   45 - 54              3  DTSML          3.261233  \n",
       "1                       W   35 - 44              1  DTSML          2.334355  \n",
       "2                       W   55 - 69              4  DTSML          4.764236  \n",
       "3                       W   55 - 69              3  DTSML         22.849682  \n",
       "4                       W   25 - 34              1  DTSML          2.569661  "
      ]
     },
     "execution_count": 1,
     "metadata": {},
     "output_type": "execute_result"
    }
   ],
   "source": [
    "import pandas as pd\n",
    "import numpy as np\n",
    "import datetime as dt\n",
    "import matplotlib.pyplot as plt\n",
    "from matplotlib import style\n",
    "import dateutil\n",
    "%matplotlib inline\n",
    "\n",
    "df = pd.read_csv('raw_ev_data/clark/voter_distance_20161025.csv', low_memory=False)\n",
    "df = df[['personid', 'congressional_district', 'county_name', 'sex', 'source_party', 'combined_ethnicity_4way', 'age_range', 'ev_day_number', 'prefix', 'miles_to_ev_site']]\n",
    "df.head()"
   ]
  },
  {
   "cell_type": "code",
   "execution_count": 2,
   "metadata": {
    "collapsed": false
   },
   "outputs": [],
   "source": [
    "# Removing leading/trailing whitespaces, lowercasing names, replacing remaining whitespaces w/underscores\n",
    "# df.columns = df.columns.str.strip().str.lower().str.replace(' ', '_')"
   ]
  },
  {
   "cell_type": "code",
   "execution_count": 3,
   "metadata": {
    "collapsed": false
   },
   "outputs": [
    {
     "data": {
      "text/plain": [
       "1    18581\n",
       "2    13334\n",
       "3    15561\n",
       "4    16104\n",
       "dtype: int64"
      ]
     },
     "execution_count": 3,
     "metadata": {},
     "output_type": "execute_result"
    }
   ],
   "source": [
    "# Count the number of vote days in sheet\n",
    "pd.value_counts(df['ev_day_number'].values, sort=False)"
   ]
  },
  {
   "cell_type": "code",
   "execution_count": 35,
   "metadata": {
    "collapsed": false
   },
   "outputs": [
    {
     "data": {
      "text/plain": [
       "DTSML     5967\n",
       "DSPGC     3584\n",
       "SLVRP     5845\n",
       "MEADM     7420\n",
       "LTBC      4803\n",
       "BLVDM     5391\n",
       "AMSQ      4709\n",
       "GALLM    11749\n",
       "CENTC     9223\n",
       "BDCR      4889\n",
       "dtype: int64"
      ]
     },
     "execution_count": 35,
     "metadata": {},
     "output_type": "execute_result"
    }
   ],
   "source": [
    "# Count the number of people per voting site\n",
    "pd.value_counts(df['prefix'].values, sort=False)"
   ]
  },
  {
   "cell_type": "code",
   "execution_count": 4,
   "metadata": {
    "collapsed": false
   },
   "outputs": [
    {
     "data": {
      "text/plain": [
       "Non-Partisan                   9218\n",
       "Libertarian Party               414\n",
       "Other (All Others)              235\n",
       "Republican                    19281\n",
       "Independent American Party     2211\n",
       "Green Party                      80\n",
       "Democrat                      32141\n",
       "dtype: int64"
      ]
     },
     "execution_count": 4,
     "metadata": {},
     "output_type": "execute_result"
    }
   ],
   "source": [
    "# Count different parties\n",
    "pd.value_counts(df['source_party'].values, sort=False)"
   ]
  },
  {
   "cell_type": "code",
   "execution_count": 5,
   "metadata": {
    "collapsed": false
   },
   "outputs": [
    {
     "data": {
      "text/plain": [
       "0                        Republican\n",
       "1                        Republican\n",
       "2                          Democrat\n",
       "3                        Republican\n",
       "4                      Non-Partisan\n",
       "5                      Non-Partisan\n",
       "6                          Democrat\n",
       "7                          Democrat\n",
       "8                        Republican\n",
       "9                          Democrat\n",
       "10                         Democrat\n",
       "11                       Republican\n",
       "12                         Democrat\n",
       "13                         Democrat\n",
       "14                     Non-Partisan\n",
       "15                         Democrat\n",
       "16                     Non-Partisan\n",
       "17                       Republican\n",
       "18                       Republican\n",
       "19                     Non-Partisan\n",
       "20                         Democrat\n",
       "21                         Democrat\n",
       "22                         Democrat\n",
       "23                       Republican\n",
       "24                       Republican\n",
       "25                       Republican\n",
       "26                     Non-Partisan\n",
       "27                       Republican\n",
       "28       Independent-American-Party\n",
       "29                         Democrat\n",
       "                    ...            \n",
       "63550                      Democrat\n",
       "63551                  Non-Partisan\n",
       "63552                  Non-Partisan\n",
       "63553                      Democrat\n",
       "63554                  Non-Partisan\n",
       "63555                    Republican\n",
       "63556                    Republican\n",
       "63557                      Democrat\n",
       "63558                    Republican\n",
       "63559                      Democrat\n",
       "63560                      Democrat\n",
       "63561                      Democrat\n",
       "63562    Independent-American-Party\n",
       "63563                    Republican\n",
       "63564                      Democrat\n",
       "63565                    Republican\n",
       "63566                    Republican\n",
       "63567                  Non-Partisan\n",
       "63568                    Republican\n",
       "63569             Libertarian-Party\n",
       "63570                      Democrat\n",
       "63571                      Democrat\n",
       "63572                    Republican\n",
       "63573                  Non-Partisan\n",
       "63574                      Democrat\n",
       "63575                  Non-Partisan\n",
       "63576                      Democrat\n",
       "63577                    Republican\n",
       "63578                      Democrat\n",
       "63579                    Republican\n",
       "Name: source_party, dtype: object"
      ]
     },
     "execution_count": 5,
     "metadata": {},
     "output_type": "execute_result"
    }
   ],
   "source": [
    "# Create new data frame replacing spaces in party names with dashes\n",
    "formatted = df.source_party.str.replace(' ' , '-')\n",
    "formatted"
   ]
  },
  {
   "cell_type": "code",
   "execution_count": 9,
   "metadata": {
    "collapsed": false
   },
   "outputs": [
    {
     "data": {
      "text/html": [
       "<div>\n",
       "<table border=\"1\" class=\"dataframe\">\n",
       "  <thead>\n",
       "    <tr style=\"text-align: right;\">\n",
       "      <th></th>\n",
       "      <th>personid</th>\n",
       "      <th>congressional_district</th>\n",
       "      <th>county_name</th>\n",
       "      <th>sex</th>\n",
       "      <th>source_party</th>\n",
       "      <th>combined_ethnicity_4way</th>\n",
       "      <th>age_range</th>\n",
       "      <th>ev_day_number</th>\n",
       "      <th>prefix</th>\n",
       "      <th>miles_to_ev_site</th>\n",
       "    </tr>\n",
       "  </thead>\n",
       "  <tbody>\n",
       "    <tr>\n",
       "      <th>2</th>\n",
       "      <td>322916642</td>\n",
       "      <td>1.0</td>\n",
       "      <td>Clark</td>\n",
       "      <td>M</td>\n",
       "      <td>Democrat</td>\n",
       "      <td>W</td>\n",
       "      <td>55 - 69</td>\n",
       "      <td>4</td>\n",
       "      <td>DTSML</td>\n",
       "      <td>4.764236</td>\n",
       "    </tr>\n",
       "    <tr>\n",
       "      <th>6</th>\n",
       "      <td>325858416</td>\n",
       "      <td>3.0</td>\n",
       "      <td>Clark</td>\n",
       "      <td>F</td>\n",
       "      <td>Democrat</td>\n",
       "      <td>W</td>\n",
       "      <td>45 - 54</td>\n",
       "      <td>1</td>\n",
       "      <td>DTSML</td>\n",
       "      <td>2.875661</td>\n",
       "    </tr>\n",
       "    <tr>\n",
       "      <th>7</th>\n",
       "      <td>326154677</td>\n",
       "      <td>3.0</td>\n",
       "      <td>Clark</td>\n",
       "      <td>M</td>\n",
       "      <td>Democrat</td>\n",
       "      <td>W</td>\n",
       "      <td>45 - 54</td>\n",
       "      <td>1</td>\n",
       "      <td>DTSML</td>\n",
       "      <td>7.137380</td>\n",
       "    </tr>\n",
       "    <tr>\n",
       "      <th>9</th>\n",
       "      <td>353831357</td>\n",
       "      <td>3.0</td>\n",
       "      <td>Clark</td>\n",
       "      <td>M</td>\n",
       "      <td>Democrat</td>\n",
       "      <td>W</td>\n",
       "      <td>35 - 44</td>\n",
       "      <td>1</td>\n",
       "      <td>DTSML</td>\n",
       "      <td>3.042733</td>\n",
       "    </tr>\n",
       "    <tr>\n",
       "      <th>10</th>\n",
       "      <td>23643737</td>\n",
       "      <td>3.0</td>\n",
       "      <td>Clark</td>\n",
       "      <td>F</td>\n",
       "      <td>Democrat</td>\n",
       "      <td>W</td>\n",
       "      <td>55 - 69</td>\n",
       "      <td>1</td>\n",
       "      <td>DTSML</td>\n",
       "      <td>3.954567</td>\n",
       "    </tr>\n",
       "  </tbody>\n",
       "</table>\n",
       "</div>"
      ],
      "text/plain": [
       "     personid  congressional_district county_name sex source_party  \\\n",
       "2   322916642                     1.0       Clark   M     Democrat   \n",
       "6   325858416                     3.0       Clark   F     Democrat   \n",
       "7   326154677                     3.0       Clark   M     Democrat   \n",
       "9   353831357                     3.0       Clark   M     Democrat   \n",
       "10   23643737                     3.0       Clark   F     Democrat   \n",
       "\n",
       "   combined_ethnicity_4way age_range  ev_day_number prefix  miles_to_ev_site  \n",
       "2                        W   55 - 69              4  DTSML          4.764236  \n",
       "6                        W   45 - 54              1  DTSML          2.875661  \n",
       "7                        W   45 - 54              1  DTSML          7.137380  \n",
       "9                        W   35 - 44              1  DTSML          3.042733  \n",
       "10                       W   55 - 69              1  DTSML          3.954567  "
      ]
     },
     "execution_count": 9,
     "metadata": {},
     "output_type": "execute_result"
    }
   ],
   "source": [
    "# Select only rows that match Democrat\n",
    "dem = df[(df['source_party'] == 'Democrat')]\n",
    "dem.head()"
   ]
  },
  {
   "cell_type": "code",
   "execution_count": 17,
   "metadata": {
    "collapsed": false
   },
   "outputs": [],
   "source": [
    "dem_norm = dem[(dem['miles_to_ev_site'] < 15)]"
   ]
  },
  {
   "cell_type": "code",
   "execution_count": 28,
   "metadata": {
    "collapsed": false
   },
   "outputs": [
    {
     "data": {
      "text/plain": [
       "(<matplotlib.text.Text at 0x11a12d6d8>,\n",
       " <matplotlib.text.Text at 0x11a076400>,\n",
       " <matplotlib.text.Text at 0x11a080fd0>)"
      ]
     },
     "execution_count": 28,
     "metadata": {},
     "output_type": "execute_result"
    },
    {
     "data": {
      "image/png": "[encoded data removed]",
      "text/plain": [
       "<matplotlib.figure.Figure at 0x119fd5b00>"
      ]
     },
     "metadata": {},
     "output_type": "display_data"
    }
   ],
   "source": [
    "dem_norm.hist(column = (\"miles_to_ev_site\"),  bins = 20)\n",
    "plt.title(\"Distance Traveled by Early Voting Democrats\")\n",
    "plt.xlabel(\"Miles To Early Voting Site\"), plt.ylabel(\"Number Per Group of Miles\")"
   ]
  },
  {
   "cell_type": "code",
   "execution_count": 29,
   "metadata": {
    "collapsed": false
   },
   "outputs": [
    {
     "data": {
      "text/plain": [
       "(<matplotlib.text.Text at 0x119d49668>, <matplotlib.text.Text at 0x11a4c6198>)"
      ]
     },
     "execution_count": 29,
     "metadata": {},
     "output_type": "execute_result"
    },
    {
     "data": {
      "image/png": "[encoded data removed]",
      "text/plain": [
       "<matplotlib.figure.Figure at 0x119feef60>"
      ]
     },
     "metadata": {},
     "output_type": "display_data"
    }
   ],
   "source": [
    "dem_norm.hist(column = (\"miles_to_ev_site\"),  bins = 30)\n",
    "plt.title(\"Distance Traveled by Early Voting Democrats\")\n",
    "plt.xlabel(\"Miles To Early Voting Site\"), plt.ylabel(\"Number Per Group of Miles\")"
   ]
  },
  {
   "cell_type": "code",
   "execution_count": 34,
   "metadata": {
    "collapsed": false
   },
   "outputs": [
    {
     "data": {
      "text/plain": [
       "prefix\n",
       "AMSQ     3.211645\n",
       "BDCR     3.577319\n",
       "BLVDM    3.369532\n",
       "CENTC    2.888608\n",
       "DSPGC    2.582588\n",
       "DTSML    3.495760\n",
       "GALLM    4.150446\n",
       "LTBC     2.752483\n",
       "MEADM    3.843975\n",
       "SLVRP    2.590944\n",
       "Name: miles_to_ev_site, dtype: float64"
      ]
     },
     "execution_count": 34,
     "metadata": {},
     "output_type": "execute_result"
    }
   ],
   "source": [
    "# What's the average distance democrats travel per early voting site? \n",
    "mean_dem_distance = dem_norm.groupby(\"prefix\").mean().miles_to_ev_site\n",
    "mean_dem_distance"
   ]
  },
  {
   "cell_type": "code",
   "execution_count": 33,
   "metadata": {
    "collapsed": false
   },
   "outputs": [
    {
     "data": {
      "image/png": "[encoded data removed]",
      "text/plain": [
       "<matplotlib.figure.Figure at 0x11a4ab9e8>"
      ]
     },
     "metadata": {},
     "output_type": "display_data"
    }
   ],
   "source": [
    "# Plot the average distance democrats travel per early voting site? \n",
    "mean_dem_distance.plot(subplots=True);"
   ]
  },
  {
   "cell_type": "code",
   "execution_count": 37,
   "metadata": {
    "collapsed": false
   },
   "outputs": [
    {
     "data": {
      "text/plain": [
       "prefix\n",
       "AMSQ     3.519150\n",
       "BDCR     3.791298\n",
       "BLVDM    3.384723\n",
       "CENTC    3.015290\n",
       "DSPGC    2.996546\n",
       "DTSML    3.699691\n",
       "GALLM    4.372834\n",
       "LTBC     2.956835\n",
       "MEADM    3.988064\n",
       "SLVRP    2.939055\n",
       "Name: miles_to_ev_site, dtype: float64"
      ]
     },
     "execution_count": 37,
     "metadata": {},
     "output_type": "execute_result"
    }
   ],
   "source": [
    "## More analysis on data set of all parties ##\n",
    "\n",
    "# Create a groupby variable that groups distance traveled by site and takes average\n",
    "groupby_site = df.groupby('prefix').miles_to_ev_site.mean()\n",
    "groupby_site\n",
    "\n",
    "# Furthist distance is GALLM, closest is SLVRP. "
   ]
  },
  {
   "cell_type": "code",
   "execution_count": 38,
   "metadata": {
    "collapsed": false
   },
   "outputs": [
    {
     "data": {
      "text/plain": [
       "prefix\n",
       "AMSQ     2.556807\n",
       "BDCR     3.390347\n",
       "BLVDM    2.340897\n",
       "CENTC    2.767609\n",
       "DSPGC    2.302551\n",
       "DTSML    3.042733\n",
       "GALLM    3.534678\n",
       "LTBC     1.975644\n",
       "MEADM    3.050124\n",
       "SLVRP    2.132743\n",
       "Name: miles_to_ev_site, dtype: float64"
      ]
     },
     "execution_count": 38,
     "metadata": {},
     "output_type": "execute_result"
    }
   ],
   "source": [
    "# Create a groupby variable that groups distance traveled by site and takes median\n",
    "groupby_site = df.groupby('prefix').miles_to_ev_site.median()\n",
    "groupby_site\n",
    "\n",
    "# Furthist distance is GALLM, closest is LTBC. "
   ]
  },
  {
   "cell_type": "code",
   "execution_count": 39,
   "metadata": {
    "collapsed": false
   },
   "outputs": [
    {
     "data": {
      "text/plain": [
       "ev_day_number\n",
       "1    2.821281\n",
       "2    2.769240\n",
       "3    2.701087\n",
       "4    2.713202\n",
       "Name: miles_to_ev_site, dtype: float64"
      ]
     },
     "execution_count": 39,
     "metadata": {},
     "output_type": "execute_result"
    }
   ],
   "source": [
    "# Q: Are average distances traveled on weekdays different than weekends? \n",
    "# A: Not really. \n",
    "\n",
    "# Create a groupby variable that groups distance traveled by site and takes median\n",
    "groupby_day = df.groupby('ev_day_number').miles_to_ev_site.median()\n",
    "groupby_day"
   ]
  },
  {
   "cell_type": "code",
   "execution_count": 40,
   "metadata": {
    "collapsed": false
   },
   "outputs": [
    {
     "data": {
      "text/plain": [
       "source_party                ev_day_number\n",
       "Democrat                    1                2.817425\n",
       "                            2                2.731905\n",
       "                            3                2.708259\n",
       "                            4                2.732312\n",
       "Green Party                 1                2.348552\n",
       "                            2                2.394006\n",
       "                            3                1.970670\n",
       "                            4                1.727502\n",
       "Independent American Party  1                2.907268\n",
       "                            2                2.737116\n",
       "                            3                2.731727\n",
       "                            4                2.696163\n",
       "Libertarian Party           1                3.410532\n",
       "                            2                3.164216\n",
       "                            3                2.660840\n",
       "                            4                3.080548\n",
       "Non-Partisan                1                2.882306\n",
       "                            2                2.911702\n",
       "                            3                2.796964\n",
       "                            4                2.754138\n",
       "Other (All Others)          1                2.152851\n",
       "                            2                2.436415\n",
       "                            3                2.698320\n",
       "                            4                2.155417\n",
       "Republican                  1                2.777944\n",
       "                            2                2.771826\n",
       "                            3                2.652588\n",
       "                            4                2.686765\n",
       "Name: miles_to_ev_site, dtype: float64"
      ]
     },
     "execution_count": 40,
     "metadata": {},
     "output_type": "execute_result"
    }
   ],
   "source": [
    "# Q: Does distance vary by party per day? \n",
    "# A: There may be a small decrease over time.  \n",
    "\n",
    "# Create a groupby variable that groups distance traveled by site and takes median\n",
    "groupby_day = df.groupby(['source_party', 'ev_day_number']).miles_to_ev_site.median()\n",
    "groupby_day"
   ]
  }
 ],
 "metadata": {
  "anaconda-cloud": {},
  "kernelspec": {
   "display_name": "Python [py3k]",
   "language": "python",
   "name": "Python [py3k]"
  },
  "language_info": {
   "codemirror_mode": {
    "name": "ipython",
    "version": 3
   },
   "file_extension": ".py",
   "mimetype": "text/x-python",
   "name": "python",
   "nbconvert_exporter": "python",
   "pygments_lexer": "ipython3",
   "version": "3.5.2"
  }
 },
 "nbformat": 4,
 "nbformat_minor": 0
}

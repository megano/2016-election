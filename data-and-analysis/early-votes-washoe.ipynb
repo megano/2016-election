{
 "cells": [
  {
   "cell_type": "code",
   "execution_count": 145,
   "metadata": {
    "collapsed": false
   },
   "outputs": [
    {
     "data": {
      "text/html": [
       "<div>\n",
       "<table border=\"1\" class=\"dataframe\">\n",
       "  <thead>\n",
       "    <tr style=\"text-align: right;\">\n",
       "      <th></th>\n",
       "      <th>voter_id</th>\n",
       "      <th>date_entered</th>\n",
       "      <th>Original Party</th>\n",
       "      <th>Category</th>\n",
       "    </tr>\n",
       "  </thead>\n",
       "  <tbody>\n",
       "    <tr>\n",
       "      <th>0</th>\n",
       "      <td>33</td>\n",
       "      <td>9/12/16 17:49</td>\n",
       "      <td>DEM</td>\n",
       "      <td>P&amp;G</td>\n",
       "    </tr>\n",
       "    <tr>\n",
       "      <th>1</th>\n",
       "      <td>45</td>\n",
       "      <td>10/23/16 14:00</td>\n",
       "      <td>DEM</td>\n",
       "      <td>EV</td>\n",
       "    </tr>\n",
       "    <tr>\n",
       "      <th>2</th>\n",
       "      <td>56</td>\n",
       "      <td>9/9/16 15:48</td>\n",
       "      <td>DEM</td>\n",
       "      <td>P&amp;G</td>\n",
       "    </tr>\n",
       "    <tr>\n",
       "      <th>3</th>\n",
       "      <td>72</td>\n",
       "      <td>9/27/16 11:09</td>\n",
       "      <td>REP</td>\n",
       "      <td>REG</td>\n",
       "    </tr>\n",
       "    <tr>\n",
       "      <th>4</th>\n",
       "      <td>109</td>\n",
       "      <td>9/13/16 14:26</td>\n",
       "      <td>DEM</td>\n",
       "      <td>P&amp;G</td>\n",
       "    </tr>\n",
       "  </tbody>\n",
       "</table>\n",
       "</div>"
      ],
      "text/plain": [
       "   voter_id    date_entered Original Party Category\n",
       "0        33   9/12/16 17:49            DEM      P&G\n",
       "1        45  10/23/16 14:00            DEM       EV\n",
       "2        56    9/9/16 15:48            DEM      P&G\n",
       "3        72   9/27/16 11:09            REP      REG\n",
       "4       109   9/13/16 14:26            DEM      P&G"
      ]
     },
     "execution_count": 145,
     "metadata": {},
     "output_type": "execute_result"
    }
   ],
   "source": [
    "import pandas as pd\n",
    "import numpy as np\n",
    "import datetime as dt\n",
    "import matplotlib.pyplot as plt\n",
    "from matplotlib import style\n",
    "import dateutil\n",
    "%matplotlib inline\n",
    "\n",
    "df = pd.read_csv('raw_ev_data/washoe/16_gen_ab_ev_list_10_23_16.csv', low_memory=False)\n",
    "df = df[['voter_id', 'date_entered', 'Original Party', 'Category']]\n",
    "df.head()"
   ]
  },
  {
   "cell_type": "code",
   "execution_count": 146,
   "metadata": {
    "collapsed": false
   },
   "outputs": [],
   "source": [
    "# Select only rows that match Category EV for early voters\n",
    "df = df.loc[df['Category'] == 'EV']"
   ]
  },
  {
   "cell_type": "code",
   "execution_count": 147,
   "metadata": {
    "collapsed": false
   },
   "outputs": [],
   "source": [
    "# Convert \n",
    "# df['date_entered'] = df['date_entered'].apply(dateutil.parser.parse, dayfirst=True)\n",
    "# df.head()"
   ]
  },
  {
   "cell_type": "code",
   "execution_count": 148,
   "metadata": {
    "collapsed": false
   },
   "outputs": [
    {
     "data": {
      "text/html": [
       "<div>\n",
       "<table border=\"1\" class=\"dataframe\">\n",
       "  <thead>\n",
       "    <tr style=\"text-align: right;\">\n",
       "      <th></th>\n",
       "      <th>voter_id</th>\n",
       "      <th>date_entered</th>\n",
       "      <th>Original Party</th>\n",
       "      <th>Category</th>\n",
       "      <th>day</th>\n",
       "      <th>time</th>\n",
       "      <th>hour</th>\n",
       "      <th>minutes</th>\n",
       "    </tr>\n",
       "  </thead>\n",
       "  <tbody>\n",
       "    <tr>\n",
       "      <th>1</th>\n",
       "      <td>45</td>\n",
       "      <td>10/23/16 14:00</td>\n",
       "      <td>DEM</td>\n",
       "      <td>EV</td>\n",
       "      <td>10/23/16</td>\n",
       "      <td>14:00</td>\n",
       "      <td>14</td>\n",
       "      <td>00</td>\n",
       "    </tr>\n",
       "    <tr>\n",
       "      <th>7</th>\n",
       "      <td>124</td>\n",
       "      <td>10/22/16 10:50</td>\n",
       "      <td>GRN</td>\n",
       "      <td>EV</td>\n",
       "      <td>10/22/16</td>\n",
       "      <td>10:50</td>\n",
       "      <td>10</td>\n",
       "      <td>50</td>\n",
       "    </tr>\n",
       "    <tr>\n",
       "      <th>9</th>\n",
       "      <td>128</td>\n",
       "      <td>10/22/16 11:14</td>\n",
       "      <td>DEM</td>\n",
       "      <td>EV</td>\n",
       "      <td>10/22/16</td>\n",
       "      <td>11:14</td>\n",
       "      <td>11</td>\n",
       "      <td>14</td>\n",
       "    </tr>\n",
       "    <tr>\n",
       "      <th>14</th>\n",
       "      <td>283</td>\n",
       "      <td>10/23/16 12:22</td>\n",
       "      <td>REP</td>\n",
       "      <td>EV</td>\n",
       "      <td>10/23/16</td>\n",
       "      <td>12:22</td>\n",
       "      <td>12</td>\n",
       "      <td>22</td>\n",
       "    </tr>\n",
       "    <tr>\n",
       "      <th>17</th>\n",
       "      <td>302</td>\n",
       "      <td>10/23/16 14:38</td>\n",
       "      <td>DEM</td>\n",
       "      <td>EV</td>\n",
       "      <td>10/23/16</td>\n",
       "      <td>14:38</td>\n",
       "      <td>14</td>\n",
       "      <td>38</td>\n",
       "    </tr>\n",
       "  </tbody>\n",
       "</table>\n",
       "</div>"
      ],
      "text/plain": [
       "    voter_id    date_entered Original Party Category       day   time hour  \\\n",
       "1         45  10/23/16 14:00            DEM       EV  10/23/16  14:00   14   \n",
       "7        124  10/22/16 10:50            GRN       EV  10/22/16  10:50   10   \n",
       "9        128  10/22/16 11:14            DEM       EV  10/22/16  11:14   11   \n",
       "14       283  10/23/16 12:22            REP       EV  10/23/16  12:22   12   \n",
       "17       302  10/23/16 14:38            DEM       EV  10/23/16  14:38   14   \n",
       "\n",
       "   minutes  \n",
       "1       00  \n",
       "7       50  \n",
       "9       14  \n",
       "14      22  \n",
       "17      38  "
      ]
     },
     "execution_count": 148,
     "metadata": {},
     "output_type": "execute_result"
    }
   ],
   "source": [
    "# Create a new column for day and new column for time from date_entered column\n",
    "df[\"day\"] = df[\"date_entered\"].map(lambda d : d.split(\" \")[0])\n",
    "df[\"time\"] = df[\"date_entered\"].map(lambda d : d.split(\" \")[1])\n",
    "df[\"hour\"] = df[\"time\"].map(lambda d : d.split(\":\")[0])\n",
    "df[\"minutes\"] = df[\"date_entered\"].map(lambda d : d.split(\":\")[1])\n",
    "df.head()"
   ]
  },
  {
   "cell_type": "code",
   "execution_count": 149,
   "metadata": {
    "collapsed": false
   },
   "outputs": [
    {
     "data": {
      "text/html": [
       "<div>\n",
       "<table border=\"1\" class=\"dataframe\">\n",
       "  <thead>\n",
       "    <tr style=\"text-align: right;\">\n",
       "      <th></th>\n",
       "      <th>voter_id</th>\n",
       "      <th>Original Party</th>\n",
       "      <th>Category</th>\n",
       "      <th>day</th>\n",
       "      <th>hour</th>\n",
       "      <th>minutes</th>\n",
       "    </tr>\n",
       "  </thead>\n",
       "  <tbody>\n",
       "    <tr>\n",
       "      <th>1</th>\n",
       "      <td>45</td>\n",
       "      <td>DEM</td>\n",
       "      <td>EV</td>\n",
       "      <td>10/23/16</td>\n",
       "      <td>14</td>\n",
       "      <td>00</td>\n",
       "    </tr>\n",
       "    <tr>\n",
       "      <th>7</th>\n",
       "      <td>124</td>\n",
       "      <td>GRN</td>\n",
       "      <td>EV</td>\n",
       "      <td>10/22/16</td>\n",
       "      <td>10</td>\n",
       "      <td>50</td>\n",
       "    </tr>\n",
       "    <tr>\n",
       "      <th>9</th>\n",
       "      <td>128</td>\n",
       "      <td>DEM</td>\n",
       "      <td>EV</td>\n",
       "      <td>10/22/16</td>\n",
       "      <td>11</td>\n",
       "      <td>14</td>\n",
       "    </tr>\n",
       "    <tr>\n",
       "      <th>14</th>\n",
       "      <td>283</td>\n",
       "      <td>REP</td>\n",
       "      <td>EV</td>\n",
       "      <td>10/23/16</td>\n",
       "      <td>12</td>\n",
       "      <td>22</td>\n",
       "    </tr>\n",
       "    <tr>\n",
       "      <th>17</th>\n",
       "      <td>302</td>\n",
       "      <td>DEM</td>\n",
       "      <td>EV</td>\n",
       "      <td>10/23/16</td>\n",
       "      <td>14</td>\n",
       "      <td>38</td>\n",
       "    </tr>\n",
       "  </tbody>\n",
       "</table>\n",
       "</div>"
      ],
      "text/plain": [
       "    voter_id Original Party Category       day hour minutes\n",
       "1         45            DEM       EV  10/23/16   14      00\n",
       "7        124            GRN       EV  10/22/16   10      50\n",
       "9        128            DEM       EV  10/22/16   11      14\n",
       "14       283            REP       EV  10/23/16   12      22\n",
       "17       302            DEM       EV  10/23/16   14      38"
      ]
     },
     "execution_count": 149,
     "metadata": {},
     "output_type": "execute_result"
    }
   ],
   "source": [
    "# Drop date_entered column\n",
    "df = df.drop('date_entered', axis=1)\n",
    "df = df.drop('time', axis=1)\n",
    "df.head()"
   ]
  },
  {
   "cell_type": "code",
   "execution_count": 150,
   "metadata": {
    "collapsed": false
   },
   "outputs": [
    {
     "data": {
      "text/html": [
       "<div>\n",
       "<table border=\"1\" class=\"dataframe\">\n",
       "  <thead>\n",
       "    <tr style=\"text-align: right;\">\n",
       "      <th></th>\n",
       "      <th>voter_id</th>\n",
       "      <th>Original Party</th>\n",
       "      <th>Category</th>\n",
       "      <th>day</th>\n",
       "      <th>hour</th>\n",
       "      <th>minutes</th>\n",
       "    </tr>\n",
       "  </thead>\n",
       "  <tbody>\n",
       "    <tr>\n",
       "      <th>1</th>\n",
       "      <td>45</td>\n",
       "      <td>DEM</td>\n",
       "      <td>EV</td>\n",
       "      <td>2016-10-23</td>\n",
       "      <td>14</td>\n",
       "      <td>00</td>\n",
       "    </tr>\n",
       "    <tr>\n",
       "      <th>7</th>\n",
       "      <td>124</td>\n",
       "      <td>GRN</td>\n",
       "      <td>EV</td>\n",
       "      <td>2016-10-22</td>\n",
       "      <td>10</td>\n",
       "      <td>50</td>\n",
       "    </tr>\n",
       "    <tr>\n",
       "      <th>9</th>\n",
       "      <td>128</td>\n",
       "      <td>DEM</td>\n",
       "      <td>EV</td>\n",
       "      <td>2016-10-22</td>\n",
       "      <td>11</td>\n",
       "      <td>14</td>\n",
       "    </tr>\n",
       "    <tr>\n",
       "      <th>14</th>\n",
       "      <td>283</td>\n",
       "      <td>REP</td>\n",
       "      <td>EV</td>\n",
       "      <td>2016-10-23</td>\n",
       "      <td>12</td>\n",
       "      <td>22</td>\n",
       "    </tr>\n",
       "    <tr>\n",
       "      <th>17</th>\n",
       "      <td>302</td>\n",
       "      <td>DEM</td>\n",
       "      <td>EV</td>\n",
       "      <td>2016-10-23</td>\n",
       "      <td>14</td>\n",
       "      <td>38</td>\n",
       "    </tr>\n",
       "  </tbody>\n",
       "</table>\n",
       "</div>"
      ],
      "text/plain": [
       "    voter_id Original Party Category        day hour minutes\n",
       "1         45            DEM       EV 2016-10-23   14      00\n",
       "7        124            GRN       EV 2016-10-22   10      50\n",
       "9        128            DEM       EV 2016-10-22   11      14\n",
       "14       283            REP       EV 2016-10-23   12      22\n",
       "17       302            DEM       EV 2016-10-23   14      38"
      ]
     },
     "execution_count": 150,
     "metadata": {},
     "output_type": "execute_result"
    }
   ],
   "source": [
    "# Convert day column to Y/M/D format\n",
    "df['day'] = df['day'].apply(lambda x: \n",
    "  dt.datetime.strptime(x,'%m/%d/%y'))\n",
    "df.head()"
   ]
  },
  {
   "cell_type": "code",
   "execution_count": 151,
   "metadata": {
    "collapsed": false
   },
   "outputs": [],
   "source": [
    "# Sort by date\n",
    "# df['day'] =pd.to_datetime(df.day)\n",
    "# df.sort_values(by='day')"
   ]
  },
  {
   "cell_type": "code",
   "execution_count": 152,
   "metadata": {
    "collapsed": false
   },
   "outputs": [
    {
     "data": {
      "text/plain": [
       "2016-10-23    5497\n",
       "2016-10-22    9297\n",
       "dtype: int64"
      ]
     },
     "execution_count": 152,
     "metadata": {},
     "output_type": "execute_result"
    }
   ],
   "source": [
    "# Count the number of different days in day column\n",
    "pd.value_counts(df['day'].values, sort=False)"
   ]
  },
  {
   "cell_type": "code",
   "execution_count": 153,
   "metadata": {
    "collapsed": false
   },
   "outputs": [
    {
     "data": {
      "text/html": [
       "<div>\n",
       "<table border=\"1\" class=\"dataframe\">\n",
       "  <thead>\n",
       "    <tr style=\"text-align: right;\">\n",
       "      <th></th>\n",
       "      <th>voter_id</th>\n",
       "      <th>Original Party</th>\n",
       "      <th>Category</th>\n",
       "      <th>day</th>\n",
       "      <th>hour</th>\n",
       "      <th>minutes</th>\n",
       "    </tr>\n",
       "  </thead>\n",
       "  <tbody>\n",
       "    <tr>\n",
       "      <th>1</th>\n",
       "      <td>45</td>\n",
       "      <td>DEM</td>\n",
       "      <td>EV</td>\n",
       "      <td>2016-10-23</td>\n",
       "      <td>14</td>\n",
       "      <td>00</td>\n",
       "    </tr>\n",
       "    <tr>\n",
       "      <th>14</th>\n",
       "      <td>283</td>\n",
       "      <td>REP</td>\n",
       "      <td>EV</td>\n",
       "      <td>2016-10-23</td>\n",
       "      <td>12</td>\n",
       "      <td>22</td>\n",
       "    </tr>\n",
       "    <tr>\n",
       "      <th>17</th>\n",
       "      <td>302</td>\n",
       "      <td>DEM</td>\n",
       "      <td>EV</td>\n",
       "      <td>2016-10-23</td>\n",
       "      <td>14</td>\n",
       "      <td>38</td>\n",
       "    </tr>\n",
       "    <tr>\n",
       "      <th>25</th>\n",
       "      <td>436</td>\n",
       "      <td>DEM</td>\n",
       "      <td>EV</td>\n",
       "      <td>2016-10-23</td>\n",
       "      <td>14</td>\n",
       "      <td>20</td>\n",
       "    </tr>\n",
       "    <tr>\n",
       "      <th>33</th>\n",
       "      <td>578</td>\n",
       "      <td>DEM</td>\n",
       "      <td>EV</td>\n",
       "      <td>2016-10-23</td>\n",
       "      <td>14</td>\n",
       "      <td>45</td>\n",
       "    </tr>\n",
       "  </tbody>\n",
       "</table>\n",
       "</div>"
      ],
      "text/plain": [
       "    voter_id Original Party Category        day hour minutes\n",
       "1         45            DEM       EV 2016-10-23   14      00\n",
       "14       283            REP       EV 2016-10-23   12      22\n",
       "17       302            DEM       EV 2016-10-23   14      38\n",
       "25       436            DEM       EV 2016-10-23   14      20\n",
       "33       578            DEM       EV 2016-10-23   14      45"
      ]
     },
     "execution_count": 153,
     "metadata": {},
     "output_type": "execute_result"
    }
   ],
   "source": [
    "# New data frame with only rows with date Oct 23\n",
    "df = df[df.day == '2016-10-23']\n",
    "df.head()"
   ]
  },
  {
   "cell_type": "code",
   "execution_count": 154,
   "metadata": {
    "collapsed": false
   },
   "outputs": [
    {
     "data": {
      "text/plain": [
       "11    1136\n",
       "13    1071\n",
       "14    1044\n",
       "12    1007\n",
       "15     856\n",
       "10     313\n",
       "16      70\n",
       "Name: hour, dtype: int64"
      ]
     },
     "execution_count": 154,
     "metadata": {},
     "output_type": "execute_result"
    }
   ],
   "source": [
    "# How many instances per hour? \n",
    "df['hour'].value_counts()"
   ]
  },
  {
   "cell_type": "code",
   "execution_count": 155,
   "metadata": {
    "collapsed": false
   },
   "outputs": [],
   "source": [
    "# Rename Original Party so it doesn't have a space\n",
    "df = df.rename(columns = {'Original Party':'Original_Party'})"
   ]
  },
  {
   "cell_type": "code",
   "execution_count": 156,
   "metadata": {
    "collapsed": false
   },
   "outputs": [
    {
     "data": {
      "text/html": [
       "<div>\n",
       "<table border=\"1\" class=\"dataframe\">\n",
       "  <thead>\n",
       "    <tr style=\"text-align: right;\">\n",
       "      <th>Original_Party</th>\n",
       "      <th>DEM</th>\n",
       "      <th>GRN</th>\n",
       "      <th>IAP</th>\n",
       "      <th>IND</th>\n",
       "      <th>LPN</th>\n",
       "      <th>NL</th>\n",
       "      <th>NP</th>\n",
       "      <th>OTH</th>\n",
       "      <th>REP</th>\n",
       "      <th>RFM</th>\n",
       "      <th>TEANV</th>\n",
       "    </tr>\n",
       "    <tr>\n",
       "      <th>hour</th>\n",
       "      <th></th>\n",
       "      <th></th>\n",
       "      <th></th>\n",
       "      <th></th>\n",
       "      <th></th>\n",
       "      <th></th>\n",
       "      <th></th>\n",
       "      <th></th>\n",
       "      <th></th>\n",
       "      <th></th>\n",
       "      <th></th>\n",
       "    </tr>\n",
       "  </thead>\n",
       "  <tbody>\n",
       "    <tr>\n",
       "      <th>10</th>\n",
       "      <td>151</td>\n",
       "      <td>0</td>\n",
       "      <td>15</td>\n",
       "      <td>0</td>\n",
       "      <td>1</td>\n",
       "      <td>0</td>\n",
       "      <td>41</td>\n",
       "      <td>3</td>\n",
       "      <td>101</td>\n",
       "      <td>1</td>\n",
       "      <td>0</td>\n",
       "    </tr>\n",
       "    <tr>\n",
       "      <th>11</th>\n",
       "      <td>566</td>\n",
       "      <td>4</td>\n",
       "      <td>40</td>\n",
       "      <td>1</td>\n",
       "      <td>11</td>\n",
       "      <td>0</td>\n",
       "      <td>145</td>\n",
       "      <td>5</td>\n",
       "      <td>364</td>\n",
       "      <td>0</td>\n",
       "      <td>0</td>\n",
       "    </tr>\n",
       "    <tr>\n",
       "      <th>12</th>\n",
       "      <td>495</td>\n",
       "      <td>5</td>\n",
       "      <td>29</td>\n",
       "      <td>2</td>\n",
       "      <td>9</td>\n",
       "      <td>0</td>\n",
       "      <td>139</td>\n",
       "      <td>5</td>\n",
       "      <td>323</td>\n",
       "      <td>0</td>\n",
       "      <td>0</td>\n",
       "    </tr>\n",
       "    <tr>\n",
       "      <th>13</th>\n",
       "      <td>514</td>\n",
       "      <td>4</td>\n",
       "      <td>35</td>\n",
       "      <td>0</td>\n",
       "      <td>12</td>\n",
       "      <td>0</td>\n",
       "      <td>134</td>\n",
       "      <td>2</td>\n",
       "      <td>368</td>\n",
       "      <td>0</td>\n",
       "      <td>2</td>\n",
       "    </tr>\n",
       "    <tr>\n",
       "      <th>14</th>\n",
       "      <td>529</td>\n",
       "      <td>2</td>\n",
       "      <td>35</td>\n",
       "      <td>2</td>\n",
       "      <td>7</td>\n",
       "      <td>1</td>\n",
       "      <td>153</td>\n",
       "      <td>5</td>\n",
       "      <td>310</td>\n",
       "      <td>0</td>\n",
       "      <td>0</td>\n",
       "    </tr>\n",
       "  </tbody>\n",
       "</table>\n",
       "</div>"
      ],
      "text/plain": [
       "Original_Party  DEM  GRN  IAP  IND  LPN  NL   NP  OTH  REP  RFM  TEANV\n",
       "hour                                                                  \n",
       "10              151    0   15    0    1   0   41    3  101    1      0\n",
       "11              566    4   40    1   11   0  145    5  364    0      0\n",
       "12              495    5   29    2    9   0  139    5  323    0      0\n",
       "13              514    4   35    0   12   0  134    2  368    0      2\n",
       "14              529    2   35    2    7   1  153    5  310    0      0"
      ]
     },
     "execution_count": 156,
     "metadata": {},
     "output_type": "execute_result"
    }
   ],
   "source": [
    "timing = pd.crosstab(df.hour, df.Original_Party)\n",
    "timing.head()"
   ]
  },
  {
   "cell_type": "code",
   "execution_count": 157,
   "metadata": {
    "collapsed": false
   },
   "outputs": [
    {
     "data": {
      "text/html": [
       "<div>\n",
       "<table border=\"1\" class=\"dataframe\">\n",
       "  <thead>\n",
       "    <tr style=\"text-align: right;\">\n",
       "      <th>Original_Party</th>\n",
       "      <th>DEM</th>\n",
       "      <th>REP</th>\n",
       "      <th>IND</th>\n",
       "    </tr>\n",
       "    <tr>\n",
       "      <th>hour</th>\n",
       "      <th></th>\n",
       "      <th></th>\n",
       "      <th></th>\n",
       "    </tr>\n",
       "  </thead>\n",
       "  <tbody>\n",
       "    <tr>\n",
       "      <th>10</th>\n",
       "      <td>151</td>\n",
       "      <td>101</td>\n",
       "      <td>0</td>\n",
       "    </tr>\n",
       "    <tr>\n",
       "      <th>11</th>\n",
       "      <td>566</td>\n",
       "      <td>364</td>\n",
       "      <td>1</td>\n",
       "    </tr>\n",
       "    <tr>\n",
       "      <th>12</th>\n",
       "      <td>495</td>\n",
       "      <td>323</td>\n",
       "      <td>2</td>\n",
       "    </tr>\n",
       "    <tr>\n",
       "      <th>13</th>\n",
       "      <td>514</td>\n",
       "      <td>368</td>\n",
       "      <td>0</td>\n",
       "    </tr>\n",
       "    <tr>\n",
       "      <th>14</th>\n",
       "      <td>529</td>\n",
       "      <td>310</td>\n",
       "      <td>2</td>\n",
       "    </tr>\n",
       "  </tbody>\n",
       "</table>\n",
       "</div>"
      ],
      "text/plain": [
       "Original_Party  DEM  REP  IND\n",
       "hour                         \n",
       "10              151  101    0\n",
       "11              566  364    1\n",
       "12              495  323    2\n",
       "13              514  368    0\n",
       "14              529  310    2"
      ]
     },
     "execution_count": 157,
     "metadata": {},
     "output_type": "execute_result"
    }
   ],
   "source": [
    "# Drop columnns that are not Democrats, Republicans, Independent\n",
    "timing2 = timing[['DEM','REP', 'IND']]\n",
    "timing2.head()"
   ]
  },
  {
   "cell_type": "code",
   "execution_count": 158,
   "metadata": {
    "collapsed": false
   },
   "outputs": [
    {
     "data": {
      "text/plain": [
       "<matplotlib.axes._subplots.AxesSubplot at 0x11d092e48>"
      ]
     },
     "execution_count": 158,
     "metadata": {},
     "output_type": "execute_result"
    },
    {
     "data": {
      "image/png": "[encoded data removed]",
      "text/plain": [
       "<matplotlib.figure.Figure at 0x12fe46b38>"
      ]
     },
     "metadata": {},
     "output_type": "display_data"
    }
   ],
   "source": [
    "# Plot a bar chart with different color bars for # votes per original party by hour\n",
    "timing2.plot(kind='bar')"
   ]
  },
  {
   "cell_type": "code",
   "execution_count": 159,
   "metadata": {
    "collapsed": false,
    "scrolled": true
   },
   "outputs": [
    {
     "data": {
      "text/plain": [
       "<matplotlib.axes._subplots.AxesSubplot at 0x11d083240>"
      ]
     },
     "execution_count": 159,
     "metadata": {},
     "output_type": "execute_result"
    },
    {
     "data": {
      "image/png": "[encoded data removed]",
      "text/plain": [
       "<matplotlib.figure.Figure at 0x12bc31ac8>"
      ]
     },
     "metadata": {},
     "output_type": "display_data"
    }
   ],
   "source": [
    "# Stack the values in a horizontal chart\n",
    "timing2.plot(kind=\"barh\", stacked=\"True\")"
   ]
  }
 ],
 "metadata": {
  "anaconda-cloud": {},
  "kernelspec": {
   "display_name": "Python [py3k]",
   "language": "python",
   "name": "Python [py3k]"
  },
  "language_info": {
   "codemirror_mode": {
    "name": "ipython",
    "version": 3
   },
   "file_extension": ".py",
   "mimetype": "text/x-python",
   "name": "python",
   "nbconvert_exporter": "python",
   "pygments_lexer": "ipython3",
   "version": "3.5.2"
  }
 },
 "nbformat": 4,
 "nbformat_minor": 0
}
